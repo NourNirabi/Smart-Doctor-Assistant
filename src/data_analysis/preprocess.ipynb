{
 "cells": [
  {
   "cell_type": "code",
   "execution_count": 1,
   "metadata": {},
   "outputs": [],
   "source": [
    "import pandas as pd\n",
    "import numpy as np\n",
    "import matplotlib as plt"
   ]
  },
  {
   "cell_type": "code",
   "execution_count": 2,
   "metadata": {},
   "outputs": [],
   "source": [
    "data = pd.read_csv(r\"C:\\Users\\Asus\\Desktop\\Smart_Doctor_Assistant\\data\\raw\\Final_Augmented_dataset_Diseases_and_Symptoms.csv\")"
   ]
  },
  {
   "cell_type": "code",
   "execution_count": 3,
   "metadata": {},
   "outputs": [],
   "source": [
    "# Convert columns to more memory-efficient data types\n",
    "for col in data.columns:\n",
    "    if data[col].dtype == 'int64':\n",
    "        data[col] = data[col].astype('int32')\n",
    "    elif data[col].dtype == 'float64':\n",
    "        data[col] = data[col].astype('float32')"
   ]
  },
  {
   "cell_type": "code",
   "execution_count": 4,
   "metadata": {},
   "outputs": [
    {
     "name": "stdout",
     "output_type": "stream",
     "text": [
      "\n",
      "🔹 Duplicate Values: 57298\n"
     ]
    }
   ],
   "source": [
    "print(\"\\n🔹 Duplicate Values:\", data.duplicated().sum())"
   ]
  },
  {
   "cell_type": "code",
   "execution_count": 5,
   "metadata": {},
   "outputs": [
    {
     "name": "stdout",
     "output_type": "stream",
     "text": [
      "Data cleaned. New shape: (189647, 378)\n"
     ]
    }
   ],
   "source": [
    "data = data.drop_duplicates()  \n",
    "data = data.dropna()\n",
    "print(f\"Data cleaned. New shape: {data.shape}\")"
   ]
  },
  {
   "cell_type": "code",
   "execution_count": 6,
   "metadata": {},
   "outputs": [],
   "source": [
    "for col in data.columns:\n",
    "    if col == \"diseases\":\n",
    "        continue\n",
    "    unique_values = data[col].unique()\n",
    "    if not set(unique_values).issubset({0, 1}):\n",
    "        print(f\"Column '{col}' contains unexpected values: {unique_values}\")\n",
    "        data = data[data[col].isin([0, 1])] "
   ]
  },
  {
   "cell_type": "code",
   "execution_count": null,
   "metadata": {},
   "outputs": [],
   "source": [
    "processed_data = []\n",
    "\n",
    "for _, row in data.iterrows():\n",
    "    \n",
    "    symptoms = [col for col in data.columns if col != \"diseases\" and row[col] == 1]\n",
    "    \n",
    "    entry = {\n",
    "        'id': row.name,\n",
    "        'disease': row['diseases'],\n",
    "        'symptoms': symptoms\n",
    "    }\n",
    "    \n",
    "    processed_data.append(entry)\n",
    "\n",
    "print(processed_data)"
   ]
  },
  {
   "cell_type": "code",
   "execution_count": null,
   "metadata": {},
   "outputs": [],
   "source": [
    "num = 0\n",
    "for entry in processed_data:\n",
    "    for entry2 in processed_data:\n",
    "        \n",
    "        if entry['symptoms'] == entry2['symptoms'] and entry['disease']!= entry2['disease']:\n",
    "            num = num+1\n",
    "            \n",
    "print(num)\n",
    "    "
   ]
  },
  {
   "cell_type": "code",
   "execution_count": null,
   "metadata": {},
   "outputs": [],
   "source": [
    "unique_symptoms = {}\n",
    "filtered_data = []\n",
    "\n",
    "for entry in processed_data:\n",
    "    symptoms_key = tuple(sorted(entry['symptoms']))  # استخدام tuple لتكون قابلة للمقارنة\n",
    "\n",
    "    if symptoms_key not in unique_symptoms:\n",
    "        unique_symptoms[symptoms_key] = entry['disease']\n",
    "        filtered_data.append(entry)\n",
    "\n",
    "print(f\"عدد السجلات بعد الحذف: {len(filtered_data)}\")"
   ]
  },
  {
   "cell_type": "code",
   "execution_count": 13,
   "metadata": {},
   "outputs": [
    {
     "name": "stdout",
     "output_type": "stream",
     "text": [
      "Data saved to processed_data.json\n"
     ]
    }
   ],
   "source": [
    "import json\n",
    "\n",
    "with open(r\"C:\\Users\\Asus\\Desktop\\Smart_Doctor_Assistant\\data\\processed\\processed_data.json\", \"w\", encoding=\"utf-8\") as f:\n",
    "    json.dump(processed_data, f, ensure_ascii=False, indent=4)\n",
    "\n",
    "print(\"Data saved to processed_data.json\")"
   ]
  },
  {
   "cell_type": "code",
   "execution_count": 1,
   "metadata": {},
   "outputs": [
    {
     "name": "stdout",
     "output_type": "stream",
     "text": [
      "Data saved to documents_data.json ['Disease: panic disorder\\nSymptoms: anxiety and nervousness, shortness of breath, depressive or psychotic symptoms, chest tightness, palpitations, irregular heartbeat, breathing fast', 'Disease: panic disorder\\nSymptoms: shortness of breath, depressive or psychotic symptoms, dizziness, insomnia, palpitations']\n",
      "Data saved to documents_data.json\n"
     ]
    }
   ],
   "source": [
    "import json\n",
    "\n",
    "with open(r\"C:\\Users\\Asus\\Desktop\\Smart_Doctor_Assistant\\data\\processed\\processed_data.json\", \"r\") as f:\n",
    "    data = json.load(f)\n",
    "\n",
    "documents = []\n",
    "for entry in data:\n",
    "    doc_text = f\"Disease: {entry['disease']}\\nSymptoms: {', '.join(entry['symptoms'])}\"\n",
    "    documents.append(doc_text)\n",
    "\n",
    "print(\"Data saved to documents_data.json\", documents[:2])\n",
    "\n",
    "with open(r\"C:\\Users\\Asus\\Desktop\\Smart_Doctor_Assistant\\data\\processed\\documents_data.json\", \"w\", encoding=\"utf-8\") as f:\n",
    "    json.dump(documents, f, ensure_ascii=False, indent=4)\n",
    "\n",
    "print(\"Data saved to documents_data.json\")\n"
   ]
  },
  {
   "cell_type": "code",
   "execution_count": null,
   "metadata": {},
   "outputs": [],
   "source": []
  }
 ],
 "metadata": {
  "kernelspec": {
   "display_name": "Python 3",
   "language": "python",
   "name": "python3"
  },
  "language_info": {
   "codemirror_mode": {
    "name": "ipython",
    "version": 3
   },
   "file_extension": ".py",
   "mimetype": "text/x-python",
   "name": "python",
   "nbconvert_exporter": "python",
   "pygments_lexer": "ipython3",
   "version": "3.12.4"
  }
 },
 "nbformat": 4,
 "nbformat_minor": 2
}
